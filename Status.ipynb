{
  "metadata": {
    "language_info": {
      "codemirror_mode": {
        "name": "python",
        "version": 3
      },
      "file_extension": ".py",
      "mimetype": "text/x-python",
      "name": "python",
      "nbconvert_exporter": "python",
      "pygments_lexer": "ipython3",
      "version": "3.8"
    },
    "kernelspec": {
      "name": "python",
      "display_name": "Python (Pyodide)",
      "language": "python"
    }
  },
  "nbformat_minor": 4,
  "nbformat": 4,
  "cells": [
    {
      "cell_type": "code",
      "source": "import pandas as pd",
      "metadata": {
        "trusted": true
      },
      "execution_count": 1,
      "outputs": []
    },
    {
      "cell_type": "code",
      "source": "data = pd.read_csv(\"tester.csv\", sep=\",\")",
      "metadata": {
        "trusted": true
      },
      "execution_count": 2,
      "outputs": []
    },
    {
      "cell_type": "code",
      "source": "data",
      "metadata": {
        "trusted": true
      },
      "execution_count": 3,
      "outputs": [
        {
          "execution_count": 3,
          "output_type": "execute_result",
          "data": {
            "text/plain": "   Customer  Country  Phone \n0          1      GB  123457\n1          1      GB  123458\n2          2      CH  441775\n3          2      GB  441775\n4          3      GB  234567\n5          3      FR  123456",
            "text/html": "<div>\n<style scoped>\n    .dataframe tbody tr th:only-of-type {\n        vertical-align: middle;\n    }\n\n    .dataframe tbody tr th {\n        vertical-align: top;\n    }\n\n    .dataframe thead th {\n        text-align: right;\n    }\n</style>\n<table border=\"1\" class=\"dataframe\">\n  <thead>\n    <tr style=\"text-align: right;\">\n      <th></th>\n      <th>Customer</th>\n      <th>Country</th>\n      <th>Phone</th>\n    </tr>\n  </thead>\n  <tbody>\n    <tr>\n      <th>0</th>\n      <td>1</td>\n      <td>GB</td>\n      <td>123457</td>\n    </tr>\n    <tr>\n      <th>1</th>\n      <td>1</td>\n      <td>GB</td>\n      <td>123458</td>\n    </tr>\n    <tr>\n      <th>2</th>\n      <td>2</td>\n      <td>CH</td>\n      <td>441775</td>\n    </tr>\n    <tr>\n      <th>3</th>\n      <td>2</td>\n      <td>GB</td>\n      <td>441775</td>\n    </tr>\n    <tr>\n      <th>4</th>\n      <td>3</td>\n      <td>GB</td>\n      <td>234567</td>\n    </tr>\n    <tr>\n      <th>5</th>\n      <td>3</td>\n      <td>FR</td>\n      <td>123456</td>\n    </tr>\n  </tbody>\n</table>\n</div>"
          },
          "metadata": {}
        }
      ]
    },
    {
      "cell_type": "code",
      "source": "def conditions(country, phone):\n    if country == 1  and phone == 1:\n        k = \"no change in country and phone\"\n    elif country == 1 and phone >1: \n        k = \"Change in phone only, no change in country\"\n    elif country >1 and phone ==1: \n        k = \"change in country but no change in phone\"\n    else:\n        k = \"change in country and phone\"\n    return k ",
      "metadata": {
        "trusted": true
      },
      "execution_count": 5,
      "outputs": []
    },
    {
      "cell_type": "code",
      "source": "a_list = [] ",
      "metadata": {
        "trusted": true
      },
      "execution_count": 4,
      "outputs": []
    },
    {
      "cell_type": "code",
      "source": "for i in range(len(data)):\n    data2 = data[data[\"Customer \"] == data[\"Customer \"][i]]\n    uniq_country  = data2[\"Country\"].nunique()\n    uniq_phone  = data2[\"Phone \"].nunique()\n    k = conditions(uniq_country, uniq_phone)\n    a_list.append(k)",
      "metadata": {
        "trusted": true
      },
      "execution_count": 7,
      "outputs": []
    },
    {
      "cell_type": "code",
      "source": "a_list",
      "metadata": {
        "trusted": true
      },
      "execution_count": 9,
      "outputs": [
        {
          "execution_count": 9,
          "output_type": "execute_result",
          "data": {
            "text/plain": "['Change in phone only, no change in country',\n 'Change in phone only, no change in country',\n 'change in country but no change in phone',\n 'change in country but no change in phone',\n 'change in country and phone',\n 'change in country and phone']"
          },
          "metadata": {}
        }
      ]
    },
    {
      "cell_type": "code",
      "source": "a_list = pd.DataFrame(a_list, columns = [\"Status\"])",
      "metadata": {
        "trusted": true
      },
      "execution_count": 10,
      "outputs": []
    },
    {
      "cell_type": "code",
      "source": "data = pd.concat([data, a_list], axis = 1)",
      "metadata": {
        "trusted": true
      },
      "execution_count": 11,
      "outputs": []
    },
    {
      "cell_type": "code",
      "source": "data",
      "metadata": {
        "trusted": true
      },
      "execution_count": 12,
      "outputs": [
        {
          "execution_count": 12,
          "output_type": "execute_result",
          "data": {
            "text/plain": "   Customer  Country  Phone                                       Status\n0          1      GB  123457  Change in phone only, no change in country\n1          1      GB  123458  Change in phone only, no change in country\n2          2      CH  441775    change in country but no change in phone\n3          2      GB  441775    change in country but no change in phone\n4          3      GB  234567                 change in country and phone\n5          3      FR  123456                 change in country and phone",
            "text/html": "<div>\n<style scoped>\n    .dataframe tbody tr th:only-of-type {\n        vertical-align: middle;\n    }\n\n    .dataframe tbody tr th {\n        vertical-align: top;\n    }\n\n    .dataframe thead th {\n        text-align: right;\n    }\n</style>\n<table border=\"1\" class=\"dataframe\">\n  <thead>\n    <tr style=\"text-align: right;\">\n      <th></th>\n      <th>Customer</th>\n      <th>Country</th>\n      <th>Phone</th>\n      <th>Status</th>\n    </tr>\n  </thead>\n  <tbody>\n    <tr>\n      <th>0</th>\n      <td>1</td>\n      <td>GB</td>\n      <td>123457</td>\n      <td>Change in phone only, no change in country</td>\n    </tr>\n    <tr>\n      <th>1</th>\n      <td>1</td>\n      <td>GB</td>\n      <td>123458</td>\n      <td>Change in phone only, no change in country</td>\n    </tr>\n    <tr>\n      <th>2</th>\n      <td>2</td>\n      <td>CH</td>\n      <td>441775</td>\n      <td>change in country but no change in phone</td>\n    </tr>\n    <tr>\n      <th>3</th>\n      <td>2</td>\n      <td>GB</td>\n      <td>441775</td>\n      <td>change in country but no change in phone</td>\n    </tr>\n    <tr>\n      <th>4</th>\n      <td>3</td>\n      <td>GB</td>\n      <td>234567</td>\n      <td>change in country and phone</td>\n    </tr>\n    <tr>\n      <th>5</th>\n      <td>3</td>\n      <td>FR</td>\n      <td>123456</td>\n      <td>change in country and phone</td>\n    </tr>\n  </tbody>\n</table>\n</div>"
          },
          "metadata": {}
        }
      ]
    },
    {
      "cell_type": "code",
      "source": "",
      "metadata": {},
      "execution_count": null,
      "outputs": []
    }
  ]
}